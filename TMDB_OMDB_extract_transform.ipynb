{
 "cells": [
  {
   "cell_type": "code",
   "execution_count": 3,
   "metadata": {},
   "outputs": [],
   "source": [
    "# Import all dependencies\n",
    "\n",
    "#--- URL and File related libraries\n",
    "import requests\n",
    "import os\n",
    "\n",
    "#--- Data extraction, transformation & loading libraries\n",
    "from pandas.io.json import json_normalize\n",
    "import pandas as pd\n",
    "import numpy as np\n",
    "import pymongo\n",
    "\n",
    "#--- Utilities libraries\n",
    "from datetime import datetime as dt\n",
    "\n",
    "#--- api key file\n",
    "from config1 import OMDB_api_key"
   ]
  },
  {
   "cell_type": "markdown",
   "metadata": {},
   "source": [
    "### Set Global variables accesible for notebook scope"
   ]
  },
  {
   "cell_type": "code",
   "execution_count": 4,
   "metadata": {},
   "outputs": [],
   "source": [
    "# Declare TMDB file to load\n",
    "file = \"data/tmdb_5000_movies.csv\"\n",
    "\n",
    "# Set the OMDB api url to extract JSON data\n",
    "url = f\"http://www.omdbapi.com/?apikey={OMDB_api_key}&t=\""
   ]
  },
  {
   "cell_type": "markdown",
   "metadata": {},
   "source": [
    "### Extract TMDB data from csv to dataframe"
   ]
  },
  {
   "cell_type": "code",
   "execution_count": 5,
   "metadata": {},
   "outputs": [
    {
     "data": {
      "text/html": [
       "<div>\n",
       "<style scoped>\n",
       "    .dataframe tbody tr th:only-of-type {\n",
       "        vertical-align: middle;\n",
       "    }\n",
       "\n",
       "    .dataframe tbody tr th {\n",
       "        vertical-align: top;\n",
       "    }\n",
       "\n",
       "    .dataframe thead th {\n",
       "        text-align: right;\n",
       "    }\n",
       "</style>\n",
       "<table border=\"1\" class=\"dataframe\">\n",
       "  <thead>\n",
       "    <tr style=\"text-align: right;\">\n",
       "      <th></th>\n",
       "      <th>budget</th>\n",
       "      <th>genres</th>\n",
       "      <th>homepage</th>\n",
       "      <th>id</th>\n",
       "      <th>keywords</th>\n",
       "      <th>original_language</th>\n",
       "      <th>original_title</th>\n",
       "      <th>overview</th>\n",
       "      <th>popularity</th>\n",
       "      <th>production_companies</th>\n",
       "      <th>production_countries</th>\n",
       "      <th>release_date</th>\n",
       "      <th>revenue</th>\n",
       "      <th>runtime</th>\n",
       "      <th>spoken_languages</th>\n",
       "      <th>status</th>\n",
       "      <th>tagline</th>\n",
       "      <th>title</th>\n",
       "      <th>vote_average</th>\n",
       "      <th>vote_count</th>\n",
       "    </tr>\n",
       "  </thead>\n",
       "  <tbody>\n",
       "    <tr>\n",
       "      <th>0</th>\n",
       "      <td>237000000</td>\n",
       "      <td>[{\"id\": 28, \"name\": \"Action\"}, {\"id\": 12, \"nam...</td>\n",
       "      <td>http://www.avatarmovie.com/</td>\n",
       "      <td>19995</td>\n",
       "      <td>[{\"id\": 1463, \"name\": \"culture clash\"}, {\"id\":...</td>\n",
       "      <td>en</td>\n",
       "      <td>Avatar</td>\n",
       "      <td>In the 22nd century, a paraplegic Marine is di...</td>\n",
       "      <td>150.437577</td>\n",
       "      <td>[{\"name\": \"Ingenious Film Partners\", \"id\": 289...</td>\n",
       "      <td>[{\"iso_3166_1\": \"US\", \"name\": \"United States o...</td>\n",
       "      <td>2009-12-10</td>\n",
       "      <td>2787965087</td>\n",
       "      <td>162.0</td>\n",
       "      <td>[{\"iso_639_1\": \"en\", \"name\": \"English\"}, {\"iso...</td>\n",
       "      <td>Released</td>\n",
       "      <td>Enter the World of Pandora.</td>\n",
       "      <td>Avatar</td>\n",
       "      <td>7.2</td>\n",
       "      <td>11800</td>\n",
       "    </tr>\n",
       "    <tr>\n",
       "      <th>1</th>\n",
       "      <td>300000000</td>\n",
       "      <td>[{\"id\": 12, \"name\": \"Adventure\"}, {\"id\": 14, \"...</td>\n",
       "      <td>http://disney.go.com/disneypictures/pirates/</td>\n",
       "      <td>285</td>\n",
       "      <td>[{\"id\": 270, \"name\": \"ocean\"}, {\"id\": 726, \"na...</td>\n",
       "      <td>en</td>\n",
       "      <td>Pirates of the Caribbean: At World's End</td>\n",
       "      <td>Captain Barbossa, long believed to be dead, ha...</td>\n",
       "      <td>139.082615</td>\n",
       "      <td>[{\"name\": \"Walt Disney Pictures\", \"id\": 2}, {\"...</td>\n",
       "      <td>[{\"iso_3166_1\": \"US\", \"name\": \"United States o...</td>\n",
       "      <td>2007-05-19</td>\n",
       "      <td>961000000</td>\n",
       "      <td>169.0</td>\n",
       "      <td>[{\"iso_639_1\": \"en\", \"name\": \"English\"}]</td>\n",
       "      <td>Released</td>\n",
       "      <td>At the end of the world, the adventure begins.</td>\n",
       "      <td>Pirates of the Caribbean: At World's End</td>\n",
       "      <td>6.9</td>\n",
       "      <td>4500</td>\n",
       "    </tr>\n",
       "    <tr>\n",
       "      <th>2</th>\n",
       "      <td>245000000</td>\n",
       "      <td>[{\"id\": 28, \"name\": \"Action\"}, {\"id\": 12, \"nam...</td>\n",
       "      <td>http://www.sonypictures.com/movies/spectre/</td>\n",
       "      <td>206647</td>\n",
       "      <td>[{\"id\": 470, \"name\": \"spy\"}, {\"id\": 818, \"name...</td>\n",
       "      <td>en</td>\n",
       "      <td>Spectre</td>\n",
       "      <td>A cryptic message from Bond’s past sends him o...</td>\n",
       "      <td>107.376788</td>\n",
       "      <td>[{\"name\": \"Columbia Pictures\", \"id\": 5}, {\"nam...</td>\n",
       "      <td>[{\"iso_3166_1\": \"GB\", \"name\": \"United Kingdom\"...</td>\n",
       "      <td>2015-10-26</td>\n",
       "      <td>880674609</td>\n",
       "      <td>148.0</td>\n",
       "      <td>[{\"iso_639_1\": \"fr\", \"name\": \"Fran\\u00e7ais\"},...</td>\n",
       "      <td>Released</td>\n",
       "      <td>A Plan No One Escapes</td>\n",
       "      <td>Spectre</td>\n",
       "      <td>6.3</td>\n",
       "      <td>4466</td>\n",
       "    </tr>\n",
       "  </tbody>\n",
       "</table>\n",
       "</div>"
      ],
      "text/plain": [
       "      budget                                             genres  \\\n",
       "0  237000000  [{\"id\": 28, \"name\": \"Action\"}, {\"id\": 12, \"nam...   \n",
       "1  300000000  [{\"id\": 12, \"name\": \"Adventure\"}, {\"id\": 14, \"...   \n",
       "2  245000000  [{\"id\": 28, \"name\": \"Action\"}, {\"id\": 12, \"nam...   \n",
       "\n",
       "                                       homepage      id  \\\n",
       "0                   http://www.avatarmovie.com/   19995   \n",
       "1  http://disney.go.com/disneypictures/pirates/     285   \n",
       "2   http://www.sonypictures.com/movies/spectre/  206647   \n",
       "\n",
       "                                            keywords original_language  \\\n",
       "0  [{\"id\": 1463, \"name\": \"culture clash\"}, {\"id\":...                en   \n",
       "1  [{\"id\": 270, \"name\": \"ocean\"}, {\"id\": 726, \"na...                en   \n",
       "2  [{\"id\": 470, \"name\": \"spy\"}, {\"id\": 818, \"name...                en   \n",
       "\n",
       "                             original_title  \\\n",
       "0                                    Avatar   \n",
       "1  Pirates of the Caribbean: At World's End   \n",
       "2                                   Spectre   \n",
       "\n",
       "                                            overview  popularity  \\\n",
       "0  In the 22nd century, a paraplegic Marine is di...  150.437577   \n",
       "1  Captain Barbossa, long believed to be dead, ha...  139.082615   \n",
       "2  A cryptic message from Bond’s past sends him o...  107.376788   \n",
       "\n",
       "                                production_companies  \\\n",
       "0  [{\"name\": \"Ingenious Film Partners\", \"id\": 289...   \n",
       "1  [{\"name\": \"Walt Disney Pictures\", \"id\": 2}, {\"...   \n",
       "2  [{\"name\": \"Columbia Pictures\", \"id\": 5}, {\"nam...   \n",
       "\n",
       "                                production_countries release_date     revenue  \\\n",
       "0  [{\"iso_3166_1\": \"US\", \"name\": \"United States o...   2009-12-10  2787965087   \n",
       "1  [{\"iso_3166_1\": \"US\", \"name\": \"United States o...   2007-05-19   961000000   \n",
       "2  [{\"iso_3166_1\": \"GB\", \"name\": \"United Kingdom\"...   2015-10-26   880674609   \n",
       "\n",
       "   runtime                                   spoken_languages    status  \\\n",
       "0    162.0  [{\"iso_639_1\": \"en\", \"name\": \"English\"}, {\"iso...  Released   \n",
       "1    169.0           [{\"iso_639_1\": \"en\", \"name\": \"English\"}]  Released   \n",
       "2    148.0  [{\"iso_639_1\": \"fr\", \"name\": \"Fran\\u00e7ais\"},...  Released   \n",
       "\n",
       "                                          tagline  \\\n",
       "0                     Enter the World of Pandora.   \n",
       "1  At the end of the world, the adventure begins.   \n",
       "2                           A Plan No One Escapes   \n",
       "\n",
       "                                      title  vote_average  vote_count  \n",
       "0                                    Avatar           7.2       11800  \n",
       "1  Pirates of the Caribbean: At World's End           6.9        4500  \n",
       "2                                   Spectre           6.3        4466  "
      ]
     },
     "execution_count": 5,
     "metadata": {},
     "output_type": "execute_result"
    }
   ],
   "source": [
    "df = pd.read_csv(file, low_memory = False)\n",
    "\n",
    "#print top 3 records\n",
    "df.head(3)"
   ]
  },
  {
   "cell_type": "markdown",
   "metadata": {},
   "source": [
    "#### Describe and gather dataframe information"
   ]
  },
  {
   "cell_type": "code",
   "execution_count": 5,
   "metadata": {},
   "outputs": [
    {
     "name": "stdout",
     "output_type": "stream",
     "text": [
      "<class 'pandas.core.frame.DataFrame'>\n",
      "RangeIndex: 4803 entries, 0 to 4802\n",
      "Data columns (total 20 columns):\n",
      "budget                  4803 non-null int64\n",
      "genres                  4803 non-null object\n",
      "homepage                1712 non-null object\n",
      "id                      4803 non-null int64\n",
      "keywords                4803 non-null object\n",
      "original_language       4803 non-null object\n",
      "original_title          4803 non-null object\n",
      "overview                4800 non-null object\n",
      "popularity              4803 non-null float64\n",
      "production_companies    4803 non-null object\n",
      "production_countries    4803 non-null object\n",
      "release_date            4802 non-null object\n",
      "revenue                 4803 non-null int64\n",
      "runtime                 4801 non-null float64\n",
      "spoken_languages        4803 non-null object\n",
      "status                  4803 non-null object\n",
      "tagline                 3959 non-null object\n",
      "title                   4803 non-null object\n",
      "vote_average            4803 non-null float64\n",
      "vote_count              4803 non-null int64\n",
      "dtypes: float64(3), int64(4), object(13)\n",
      "memory usage: 750.5+ KB\n"
     ]
    }
   ],
   "source": [
    "df.info()"
   ]
  },
  {
   "cell_type": "code",
   "execution_count": 4,
   "metadata": {},
   "outputs": [
    {
     "data": {
      "text/html": [
       "<div>\n",
       "<style scoped>\n",
       "    .dataframe tbody tr th:only-of-type {\n",
       "        vertical-align: middle;\n",
       "    }\n",
       "\n",
       "    .dataframe tbody tr th {\n",
       "        vertical-align: top;\n",
       "    }\n",
       "\n",
       "    .dataframe thead th {\n",
       "        text-align: right;\n",
       "    }\n",
       "</style>\n",
       "<table border=\"1\" class=\"dataframe\">\n",
       "  <thead>\n",
       "    <tr style=\"text-align: right;\">\n",
       "      <th></th>\n",
       "      <th>budget</th>\n",
       "      <th>id</th>\n",
       "      <th>popularity</th>\n",
       "      <th>revenue</th>\n",
       "      <th>runtime</th>\n",
       "      <th>vote_average</th>\n",
       "      <th>vote_count</th>\n",
       "    </tr>\n",
       "  </thead>\n",
       "  <tbody>\n",
       "    <tr>\n",
       "      <th>count</th>\n",
       "      <td>4.803000e+03</td>\n",
       "      <td>4803.000000</td>\n",
       "      <td>4803.000000</td>\n",
       "      <td>4.803000e+03</td>\n",
       "      <td>4801.000000</td>\n",
       "      <td>4803.000000</td>\n",
       "      <td>4803.000000</td>\n",
       "    </tr>\n",
       "    <tr>\n",
       "      <th>mean</th>\n",
       "      <td>2.904504e+07</td>\n",
       "      <td>57165.484281</td>\n",
       "      <td>21.492301</td>\n",
       "      <td>8.226064e+07</td>\n",
       "      <td>106.875859</td>\n",
       "      <td>6.092172</td>\n",
       "      <td>690.217989</td>\n",
       "    </tr>\n",
       "    <tr>\n",
       "      <th>std</th>\n",
       "      <td>4.072239e+07</td>\n",
       "      <td>88694.614033</td>\n",
       "      <td>31.816650</td>\n",
       "      <td>1.628571e+08</td>\n",
       "      <td>22.611935</td>\n",
       "      <td>1.194612</td>\n",
       "      <td>1234.585891</td>\n",
       "    </tr>\n",
       "    <tr>\n",
       "      <th>min</th>\n",
       "      <td>0.000000e+00</td>\n",
       "      <td>5.000000</td>\n",
       "      <td>0.000000</td>\n",
       "      <td>0.000000e+00</td>\n",
       "      <td>0.000000</td>\n",
       "      <td>0.000000</td>\n",
       "      <td>0.000000</td>\n",
       "    </tr>\n",
       "    <tr>\n",
       "      <th>25%</th>\n",
       "      <td>7.900000e+05</td>\n",
       "      <td>9014.500000</td>\n",
       "      <td>4.668070</td>\n",
       "      <td>0.000000e+00</td>\n",
       "      <td>94.000000</td>\n",
       "      <td>5.600000</td>\n",
       "      <td>54.000000</td>\n",
       "    </tr>\n",
       "    <tr>\n",
       "      <th>50%</th>\n",
       "      <td>1.500000e+07</td>\n",
       "      <td>14629.000000</td>\n",
       "      <td>12.921594</td>\n",
       "      <td>1.917000e+07</td>\n",
       "      <td>103.000000</td>\n",
       "      <td>6.200000</td>\n",
       "      <td>235.000000</td>\n",
       "    </tr>\n",
       "    <tr>\n",
       "      <th>75%</th>\n",
       "      <td>4.000000e+07</td>\n",
       "      <td>58610.500000</td>\n",
       "      <td>28.313505</td>\n",
       "      <td>9.291719e+07</td>\n",
       "      <td>118.000000</td>\n",
       "      <td>6.800000</td>\n",
       "      <td>737.000000</td>\n",
       "    </tr>\n",
       "    <tr>\n",
       "      <th>max</th>\n",
       "      <td>3.800000e+08</td>\n",
       "      <td>459488.000000</td>\n",
       "      <td>875.581305</td>\n",
       "      <td>2.787965e+09</td>\n",
       "      <td>338.000000</td>\n",
       "      <td>10.000000</td>\n",
       "      <td>13752.000000</td>\n",
       "    </tr>\n",
       "  </tbody>\n",
       "</table>\n",
       "</div>"
      ],
      "text/plain": [
       "             budget             id   popularity       revenue      runtime  \\\n",
       "count  4.803000e+03    4803.000000  4803.000000  4.803000e+03  4801.000000   \n",
       "mean   2.904504e+07   57165.484281    21.492301  8.226064e+07   106.875859   \n",
       "std    4.072239e+07   88694.614033    31.816650  1.628571e+08    22.611935   \n",
       "min    0.000000e+00       5.000000     0.000000  0.000000e+00     0.000000   \n",
       "25%    7.900000e+05    9014.500000     4.668070  0.000000e+00    94.000000   \n",
       "50%    1.500000e+07   14629.000000    12.921594  1.917000e+07   103.000000   \n",
       "75%    4.000000e+07   58610.500000    28.313505  9.291719e+07   118.000000   \n",
       "max    3.800000e+08  459488.000000   875.581305  2.787965e+09   338.000000   \n",
       "\n",
       "       vote_average    vote_count  \n",
       "count   4803.000000   4803.000000  \n",
       "mean       6.092172    690.217989  \n",
       "std        1.194612   1234.585891  \n",
       "min        0.000000      0.000000  \n",
       "25%        5.600000     54.000000  \n",
       "50%        6.200000    235.000000  \n",
       "75%        6.800000    737.000000  \n",
       "max       10.000000  13752.000000  "
      ]
     },
     "execution_count": 4,
     "metadata": {},
     "output_type": "execute_result"
    }
   ],
   "source": [
    "df.describe()"
   ]
  },
  {
   "cell_type": "code",
   "execution_count": 9,
   "metadata": {},
   "outputs": [],
   "source": [
    "df_filtered = df[df.release_date > \"1999-31-12\"].sort_values(by='release_date', ascending=True)"
   ]
  },
  {
   "cell_type": "markdown",
   "metadata": {},
   "source": [
    "### OMDB extraction"
   ]
  },
  {
   "cell_type": "code",
   "execution_count": 11,
   "metadata": {},
   "outputs": [
    {
     "data": {
      "text/plain": [
       "title           3494\n",
       "release_date    3494\n",
       "dtype: int64"
      ]
     },
     "execution_count": 11,
     "metadata": {},
     "output_type": "execute_result"
    }
   ],
   "source": [
    "movies_df = df_filtered[['title','release_date']]\n",
    "movies_df.count()"
   ]
  },
  {
   "cell_type": "code",
   "execution_count": 29,
   "metadata": {},
   "outputs": [
    {
     "name": "stdout",
     "output_type": "stream",
     "text": [
      "Number of movies with duplicate title : 1\n"
     ]
    },
    {
     "data": {
      "text/html": [
       "<div>\n",
       "<style scoped>\n",
       "    .dataframe tbody tr th:only-of-type {\n",
       "        vertical-align: middle;\n",
       "    }\n",
       "\n",
       "    .dataframe tbody tr th {\n",
       "        vertical-align: top;\n",
       "    }\n",
       "\n",
       "    .dataframe thead th {\n",
       "        text-align: right;\n",
       "    }\n",
       "</style>\n",
       "<table border=\"1\" class=\"dataframe\">\n",
       "  <thead>\n",
       "    <tr style=\"text-align: right;\">\n",
       "      <th></th>\n",
       "      <th>title</th>\n",
       "      <th>release_date</th>\n",
       "    </tr>\n",
       "  </thead>\n",
       "  <tbody>\n",
       "    <tr>\n",
       "      <th>2877</th>\n",
       "      <td>The Host</td>\n",
       "      <td>2006-07-27</td>\n",
       "    </tr>\n",
       "    <tr>\n",
       "      <th>972</th>\n",
       "      <td>The Host</td>\n",
       "      <td>2013-03-22</td>\n",
       "    </tr>\n",
       "  </tbody>\n",
       "</table>\n",
       "</div>"
      ],
      "text/plain": [
       "         title release_date\n",
       "2877  The Host   2006-07-27\n",
       "972   The Host   2013-03-22"
      ]
     },
     "execution_count": 29,
     "metadata": {},
     "output_type": "execute_result"
    }
   ],
   "source": [
    "# check to see if any duplicates exists\n",
    "print(f\"Number of movies with duplicate title : {movies_df['title'].duplicated().sum()}\")\n",
    "\n",
    "# get the movies that are duplicated ad check to see if they are re-makes\n",
    "movies_df.loc[movies_df['title'] == movies_df[movies_df['title'].duplicated()].title.values[0],]"
   ]
  },
  {
   "cell_type": "code",
   "execution_count": 64,
   "metadata": {},
   "outputs": [],
   "source": [
    "# Create a function to connect to OMDB to read the data\n",
    "def getOMDB_movies(url, movies_list):\n",
    "    responses = [];\n",
    "    \n",
    "    for movie in movies_list:\n",
    "        movie_data = requests.get(url + movie).json()\n",
    "        responses.append(movie_data)\n",
    "    \n",
    "    return responses"
   ]
  },
  {
   "cell_type": "code",
   "execution_count": null,
   "metadata": {},
   "outputs": [],
   "source": [
    "title_movies = movies_df['title'].tolist()\n",
    "\n",
    "#call the function to get OMDB data -- OPEN IT WHEN NEEDED TO READ FROM API\n",
    "\n",
    "#responses = getOMDB_movies(url,title_movies)\n",
    "\n",
    "#omdb_responses_df = json_normalize(responses)\n",
    "#omdb_responses_df.head()"
   ]
  },
  {
   "cell_type": "code",
   "execution_count": 70,
   "metadata": {},
   "outputs": [],
   "source": [
    "# for testing purposes so we do not exhaust the key, read from csv\n",
    "omdb_file = \"omdb_api.csv\"\n",
    "omdb_responses_df = pd.read_csv(omdb_file)"
   ]
  },
  {
   "cell_type": "markdown",
   "metadata": {},
   "source": [
    "#### ++++++++++++++++++++ Extraction Complete +++++++++++++++++++++++++\n",
    "\n",
    "#### ++++++++++++++++++++ Transformation Begins +++++++++++++++++++++++++"
   ]
  },
  {
   "cell_type": "markdown",
   "metadata": {},
   "source": [
    "#### TMDB transformation\n",
    "\n",
    "In the transformation, we will perform \n",
    "\n",
    "- Data Filtering\n",
    "- Data Cleaning\n",
    "- Data Changes like addition of new columns, change formating etc.,\n",
    "- Data Grouping and Aggregations, if needed"
   ]
  },
  {
   "cell_type": "markdown",
   "metadata": {},
   "source": [
    "### Data Filtering (specific colums, row conditions)"
   ]
  },
  {
   "cell_type": "code",
   "execution_count": 33,
   "metadata": {},
   "outputs": [
    {
     "data": {
      "text/html": [
       "<div>\n",
       "<style scoped>\n",
       "    .dataframe tbody tr th:only-of-type {\n",
       "        vertical-align: middle;\n",
       "    }\n",
       "\n",
       "    .dataframe tbody tr th {\n",
       "        vertical-align: top;\n",
       "    }\n",
       "\n",
       "    .dataframe thead th {\n",
       "        text-align: right;\n",
       "    }\n",
       "</style>\n",
       "<table border=\"1\" class=\"dataframe\">\n",
       "  <thead>\n",
       "    <tr style=\"text-align: right;\">\n",
       "      <th></th>\n",
       "      <th>title</th>\n",
       "      <th>budget</th>\n",
       "      <th>popularity</th>\n",
       "      <th>production_companies</th>\n",
       "      <th>release_date</th>\n",
       "      <th>runtime</th>\n",
       "      <th>revenue</th>\n",
       "      <th>status</th>\n",
       "      <th>vote_average</th>\n",
       "      <th>vote_count</th>\n",
       "    </tr>\n",
       "  </thead>\n",
       "  <tbody>\n",
       "    <tr>\n",
       "      <th>2772</th>\n",
       "      <td>The Widow of Saint-Pierre</td>\n",
       "      <td>0</td>\n",
       "      <td>1.780065</td>\n",
       "      <td>[{\"name\": \"Cin\\u00e9maginaire Inc.\", \"id\": 280...</td>\n",
       "      <td>2000-01-01</td>\n",
       "      <td>112.0</td>\n",
       "      <td>0</td>\n",
       "      <td>Released</td>\n",
       "      <td>6.7</td>\n",
       "      <td>11</td>\n",
       "    </tr>\n",
       "    <tr>\n",
       "      <th>3141</th>\n",
       "      <td>Next Friday</td>\n",
       "      <td>11000000</td>\n",
       "      <td>9.337388</td>\n",
       "      <td>[{\"name\": \"New Line Cinema\", \"id\": 12}]</td>\n",
       "      <td>2000-01-12</td>\n",
       "      <td>98.0</td>\n",
       "      <td>59827328</td>\n",
       "      <td>Released</td>\n",
       "      <td>6.4</td>\n",
       "      <td>135</td>\n",
       "    </tr>\n",
       "    <tr>\n",
       "      <th>3344</th>\n",
       "      <td>My Dog Skip</td>\n",
       "      <td>7000000</td>\n",
       "      <td>5.675535</td>\n",
       "      <td>[{\"name\": \"Alcon Entertainment\", \"id\": 1088}, ...</td>\n",
       "      <td>2000-01-14</td>\n",
       "      <td>95.0</td>\n",
       "      <td>0</td>\n",
       "      <td>Released</td>\n",
       "      <td>6.5</td>\n",
       "      <td>69</td>\n",
       "    </tr>\n",
       "    <tr>\n",
       "      <th>775</th>\n",
       "      <td>Supernova</td>\n",
       "      <td>90000000</td>\n",
       "      <td>5.762037</td>\n",
       "      <td>[{\"name\": \"United Artists\", \"id\": 60}, {\"name\"...</td>\n",
       "      <td>2000-01-14</td>\n",
       "      <td>91.0</td>\n",
       "      <td>14828081</td>\n",
       "      <td>Released</td>\n",
       "      <td>4.9</td>\n",
       "      <td>109</td>\n",
       "    </tr>\n",
       "    <tr>\n",
       "      <th>4636</th>\n",
       "      <td>Chuck &amp; Buck</td>\n",
       "      <td>0</td>\n",
       "      <td>0.812855</td>\n",
       "      <td>[]</td>\n",
       "      <td>2000-01-21</td>\n",
       "      <td>96.0</td>\n",
       "      <td>0</td>\n",
       "      <td>Released</td>\n",
       "      <td>5.7</td>\n",
       "      <td>16</td>\n",
       "    </tr>\n",
       "  </tbody>\n",
       "</table>\n",
       "</div>"
      ],
      "text/plain": [
       "                          title    budget  popularity  \\\n",
       "2772  The Widow of Saint-Pierre         0    1.780065   \n",
       "3141                Next Friday  11000000    9.337388   \n",
       "3344                My Dog Skip   7000000    5.675535   \n",
       "775                   Supernova  90000000    5.762037   \n",
       "4636               Chuck & Buck         0    0.812855   \n",
       "\n",
       "                                   production_companies release_date  runtime  \\\n",
       "2772  [{\"name\": \"Cin\\u00e9maginaire Inc.\", \"id\": 280...   2000-01-01    112.0   \n",
       "3141            [{\"name\": \"New Line Cinema\", \"id\": 12}]   2000-01-12     98.0   \n",
       "3344  [{\"name\": \"Alcon Entertainment\", \"id\": 1088}, ...   2000-01-14     95.0   \n",
       "775   [{\"name\": \"United Artists\", \"id\": 60}, {\"name\"...   2000-01-14     91.0   \n",
       "4636                                                 []   2000-01-21     96.0   \n",
       "\n",
       "       revenue    status  vote_average  vote_count  \n",
       "2772         0  Released           6.7          11  \n",
       "3141  59827328  Released           6.4         135  \n",
       "3344         0  Released           6.5          69  \n",
       "775   14828081  Released           4.9         109  \n",
       "4636         0  Released           5.7          16  "
      ]
     },
     "execution_count": 33,
     "metadata": {},
     "output_type": "execute_result"
    }
   ],
   "source": [
    "# extract only required cols\n",
    "tmdb_df = df_filtered[['title','budget','popularity','production_companies','release_date','runtime','revenue',\n",
    "                          'status','vote_average','vote_count']]\n",
    "tmdb_df.head()"
   ]
  },
  {
   "cell_type": "markdown",
   "metadata": {},
   "source": [
    "### TMDB Data Cleaning\n",
    "\n",
    "Tasks performed will be,\n",
    " - filter out columns not needed\n",
    " - remove rows with NA in Title and Release_Date\n",
    " - fill na with mean (if numeric), \"not provided\" (if column is categorical)\n",
    " - Check if title is duplicated, if it is check if the release date is different to make sure it is a remake.\n",
    "     - else drop it\n"
   ]
  },
  {
   "cell_type": "code",
   "execution_count": 36,
   "metadata": {},
   "outputs": [
    {
     "name": "stdout",
     "output_type": "stream",
     "text": [
      "Missing values in release date : 0\n",
      "Missing values in title : 0\n"
     ]
    }
   ],
   "source": [
    "# Check to see if any null values exist in key colums - title and release date\n",
    "print(f\"Missing values in release date : {tmdb_df.release_date.isnull().sum()}\")\n",
    "\n",
    "print(f\"Missing values in title : {tmdb_df.title.isnull().sum()}\")\n",
    "#tmdb_df.count()"
   ]
  },
  {
   "cell_type": "markdown",
   "metadata": {},
   "source": [
    "#### Drop row with null values (safe method) "
   ]
  },
  {
   "cell_type": "code",
   "execution_count": 39,
   "metadata": {},
   "outputs": [
    {
     "name": "stdout",
     "output_type": "stream",
     "text": [
      "<class 'pandas.core.frame.DataFrame'>\n",
      "Int64Index: 3494 entries, 2772 to 4255\n",
      "Data columns (total 10 columns):\n",
      "title                   3494 non-null object\n",
      "budget                  3494 non-null int64\n",
      "popularity              3494 non-null float64\n",
      "production_companies    3494 non-null object\n",
      "release_date            3494 non-null object\n",
      "runtime                 3492 non-null float64\n",
      "revenue                 3494 non-null int64\n",
      "status                  3494 non-null object\n",
      "vote_average            3494 non-null float64\n",
      "vote_count              3494 non-null int64\n",
      "dtypes: float64(3), int64(3), object(4)\n",
      "memory usage: 300.3+ KB\n"
     ]
    }
   ],
   "source": [
    "tmdb_df = tmdb_df.dropna(axis = 0, subset = ['title','release_date'])\n",
    "tmdb_df.info()"
   ]
  },
  {
   "cell_type": "markdown",
   "metadata": {},
   "source": [
    "#### Based on above info, we see that runtime has NA value, fill it with mean runtime"
   ]
  },
  {
   "cell_type": "code",
   "execution_count": 43,
   "metadata": {},
   "outputs": [
    {
     "name": "stdout",
     "output_type": "stream",
     "text": [
      "<class 'pandas.core.frame.DataFrame'>\n",
      "Int64Index: 3494 entries, 2772 to 4255\n",
      "Data columns (total 10 columns):\n",
      "title                   3494 non-null object\n",
      "budget                  3494 non-null int64\n",
      "popularity              3494 non-null float64\n",
      "production_companies    3494 non-null object\n",
      "release_date            3494 non-null object\n",
      "runtime                 3494 non-null float64\n",
      "revenue                 3494 non-null int64\n",
      "status                  3494 non-null object\n",
      "vote_average            3494 non-null float64\n",
      "vote_count              3494 non-null int64\n",
      "dtypes: float64(3), int64(3), object(4)\n",
      "memory usage: 300.3+ KB\n"
     ]
    }
   ],
   "source": [
    "runtime_mean = round(df.runtime.mean(),2)\n",
    "\n",
    "tmdb_df[['runtime']] = tmdb_df[['runtime']].fillna(value = runtime_mean)\n",
    "tmdb_df.info()"
   ]
  },
  {
   "cell_type": "code",
   "execution_count": 45,
   "metadata": {},
   "outputs": [
    {
     "data": {
      "text/plain": [
       "title                   0\n",
       "budget                  0\n",
       "popularity              0\n",
       "production_companies    0\n",
       "release_date            0\n",
       "runtime                 0\n",
       "revenue                 0\n",
       "status                  0\n",
       "vote_average            0\n",
       "vote_count              0\n",
       "dtype: int64"
      ]
     },
     "execution_count": 45,
     "metadata": {},
     "output_type": "execute_result"
    }
   ],
   "source": [
    "# check to see if all null-values are taken care of\n",
    "tmdb_df.isnull().sum()"
   ]
  },
  {
   "cell_type": "code",
   "execution_count": 63,
   "metadata": {},
   "outputs": [
    {
     "name": "stdout",
     "output_type": "stream",
     "text": [
      "No duplicates, only remakes!\n"
     ]
    }
   ],
   "source": [
    "if(tmdb_df.title.duplicated().sum() > 0):\n",
    "    # then title is duplicated\n",
    "    # check if it is a remake by cmpaoring release dat\n",
    "    if(tmdb_df[['title','release_date']].duplicated().sum() > 0):\n",
    "        # titles are duplicated, save it in duplicate df \n",
    "        duplicate_movies_tmdb = tmdb_df[tmdb_df[['title','release_date']].duplicated()]\n",
    "        # drop duplicated movie, keep only the first one\n",
    "        tmdb_df.drop_duplicates(subset = ['title','release_date'], keep = 'first', inplace = True)\n",
    "    else:\n",
    "        print(\"No duplicates, only remakes!\")"
   ]
  },
  {
   "cell_type": "markdown",
   "metadata": {},
   "source": [
    "### Data Modifications\n",
    "Tasks will be \n",
    " - Adding a new column called 'Year' used for joining with OMDB"
   ]
  },
  {
   "cell_type": "code",
   "execution_count": 60,
   "metadata": {},
   "outputs": [
    {
     "data": {
      "text/plain": [
       "2772    2000\n",
       "3141    2000\n",
       "3344    2000\n",
       "775     2000\n",
       "4636    2000\n",
       "Name: Year, dtype: object"
      ]
     },
     "execution_count": 60,
     "metadata": {},
     "output_type": "execute_result"
    }
   ],
   "source": [
    "# create Year column\n",
    "tmdb_df['Year'] = tmdb_df['release_date'].apply(lambda r: r.split(\"-\")[0])\n",
    "tmdb_df.Year.head()\n"
   ]
  },
  {
   "cell_type": "markdown",
   "metadata": {},
   "source": [
    "### Save extraction and transformation output to csv"
   ]
  },
  {
   "cell_type": "code",
   "execution_count": 62,
   "metadata": {},
   "outputs": [],
   "source": [
    "# write it to CSV\n",
    "tmdb_df.to_csv(\"TMDB_Cleaned.csv\")"
   ]
  },
  {
   "cell_type": "markdown",
   "metadata": {},
   "source": [
    "### OMDB transformation\n",
    "\n",
    "In the transformation, we will perform \n",
    "\n",
    "- Data Filtering\n",
    "- Data Cleaning\n",
    "- Data Changes like addition of new columns, change formating etc.,\n",
    "- Data Grouping and Aggregations, if needed"
   ]
  },
  {
   "cell_type": "markdown",
   "metadata": {},
   "source": [
    "### OMDB Data Filtering"
   ]
  },
  {
   "cell_type": "code",
   "execution_count": 71,
   "metadata": {},
   "outputs": [
    {
     "data": {
      "text/plain": [
       "Title        3362\n",
       "Year         3362\n",
       "Genre        3362\n",
       "Awards       2877\n",
       "Metascore    2987\n",
       "BoxOffice    2437\n",
       "dtype: int64"
      ]
     },
     "execution_count": 71,
     "metadata": {},
     "output_type": "execute_result"
    }
   ],
   "source": [
    "# filter only the required fields\n",
    "omdb_df = omdb_responses_df[['Title','Year','Genre', 'Awards', 'Metascore', 'BoxOffice']]\n",
    "\n",
    "omdb_df = omdb_df.sort_values(by='Year', ascending=True)\n",
    "\n",
    "omdb_df.count()"
   ]
  },
  {
   "cell_type": "code",
   "execution_count": 72,
   "metadata": {},
   "outputs": [
    {
     "data": {
      "text/html": [
       "<div>\n",
       "<style scoped>\n",
       "    .dataframe tbody tr th:only-of-type {\n",
       "        vertical-align: middle;\n",
       "    }\n",
       "\n",
       "    .dataframe tbody tr th {\n",
       "        vertical-align: top;\n",
       "    }\n",
       "\n",
       "    .dataframe thead th {\n",
       "        text-align: right;\n",
       "    }\n",
       "</style>\n",
       "<table border=\"1\" class=\"dataframe\">\n",
       "  <thead>\n",
       "    <tr style=\"text-align: right;\">\n",
       "      <th></th>\n",
       "      <th>Title</th>\n",
       "      <th>Year</th>\n",
       "      <th>Genre</th>\n",
       "      <th>Awards</th>\n",
       "      <th>Metascore</th>\n",
       "      <th>BoxOffice</th>\n",
       "    </tr>\n",
       "  </thead>\n",
       "  <tbody>\n",
       "    <tr>\n",
       "      <th>0</th>\n",
       "      <td>The Widow of Saint-Pierre</td>\n",
       "      <td>2000</td>\n",
       "      <td>Drama, History, Romance</td>\n",
       "      <td>Nominated for 1 Golden Globe. Another 3 wins &amp;...</td>\n",
       "      <td>73.0</td>\n",
       "      <td>NaN</td>\n",
       "    </tr>\n",
       "    <tr>\n",
       "      <th>105</th>\n",
       "      <td>Supernova</td>\n",
       "      <td>2000</td>\n",
       "      <td>Horror, Sci-Fi, Thriller</td>\n",
       "      <td>NaN</td>\n",
       "      <td>19.0</td>\n",
       "      <td>NaN</td>\n",
       "    </tr>\n",
       "    <tr>\n",
       "      <th>106</th>\n",
       "      <td>Next Friday</td>\n",
       "      <td>2000</td>\n",
       "      <td>Comedy</td>\n",
       "      <td>1 nomination.</td>\n",
       "      <td>41.0</td>\n",
       "      <td>NaN</td>\n",
       "    </tr>\n",
       "    <tr>\n",
       "      <th>107</th>\n",
       "      <td>Thomas and the Magic Railroad</td>\n",
       "      <td>2000</td>\n",
       "      <td>Adventure, Comedy, Drama, Family, Fantasy</td>\n",
       "      <td>2 nominations.</td>\n",
       "      <td>19.0</td>\n",
       "      <td>$2,027,042</td>\n",
       "    </tr>\n",
       "    <tr>\n",
       "      <th>108</th>\n",
       "      <td>Down to You</td>\n",
       "      <td>2000</td>\n",
       "      <td>Comedy, Drama, Romance</td>\n",
       "      <td>1 win &amp; 3 nominations.</td>\n",
       "      <td>13.0</td>\n",
       "      <td>NaN</td>\n",
       "    </tr>\n",
       "  </tbody>\n",
       "</table>\n",
       "</div>"
      ],
      "text/plain": [
       "                             Title  Year  \\\n",
       "0        The Widow of Saint-Pierre  2000   \n",
       "105                      Supernova  2000   \n",
       "106                    Next Friday  2000   \n",
       "107  Thomas and the Magic Railroad  2000   \n",
       "108                    Down to You  2000   \n",
       "\n",
       "                                         Genre  \\\n",
       "0                      Drama, History, Romance   \n",
       "105                   Horror, Sci-Fi, Thriller   \n",
       "106                                     Comedy   \n",
       "107  Adventure, Comedy, Drama, Family, Fantasy   \n",
       "108                     Comedy, Drama, Romance   \n",
       "\n",
       "                                                Awards  Metascore   BoxOffice  \n",
       "0    Nominated for 1 Golden Globe. Another 3 wins &...       73.0         NaN  \n",
       "105                                                NaN       19.0         NaN  \n",
       "106                                      1 nomination.       41.0         NaN  \n",
       "107                                     2 nominations.       19.0  $2,027,042  \n",
       "108                             1 win & 3 nominations.       13.0         NaN  "
      ]
     },
     "execution_count": 72,
     "metadata": {},
     "output_type": "execute_result"
    }
   ],
   "source": [
    "omdb_df.head()"
   ]
  },
  {
   "cell_type": "markdown",
   "metadata": {},
   "source": [
    "### OMDB Data Cleaning\n",
    "Tasks performed will be,\n",
    " - remove rows with NA in Title and Year\n",
    " - fill na with mean (if numeric), \"not provided\" (if column is categorical)\n",
    " - Check if title is duplicated, if it is check if the release date is different to make sure it is a remake.\n",
    "     - else drop it"
   ]
  },
  {
   "cell_type": "code",
   "execution_count": 75,
   "metadata": {},
   "outputs": [
    {
     "data": {
      "text/plain": [
       "Title        3362\n",
       "Year         3362\n",
       "Genre        3362\n",
       "Awards       2877\n",
       "Metascore    2987\n",
       "BoxOffice    2437\n",
       "dtype: int64"
      ]
     },
     "execution_count": 75,
     "metadata": {},
     "output_type": "execute_result"
    }
   ],
   "source": [
    "# Drop any rows where Title and Year are NA\n",
    "new_movies = omdb_df.dropna(axis = 0 , subset = ['Title','Year'])\n",
    "new_movies.count()"
   ]
  },
  {
   "cell_type": "code",
   "execution_count": 76,
   "metadata": {},
   "outputs": [],
   "source": [
    "# Awards has NAN values, fill it with value \"None\"\n",
    "new_movies[['Awards']] = new_movies[['Awards']].fillna(value = 'none')\n",
    "new_movies.count()"
   ]
  },
  {
   "cell_type": "code",
   "execution_count": 80,
   "metadata": {},
   "outputs": [
    {
     "data": {
      "text/plain": [
       "Title        3362\n",
       "Year         3362\n",
       "Genre        3362\n",
       "Awards       3362\n",
       "Metascore    3362\n",
       "BoxOffice    2437\n",
       "dtype: int64"
      ]
     },
     "execution_count": 80,
     "metadata": {},
     "output_type": "execute_result"
    }
   ],
   "source": [
    "omdb_movies_withNoMetaScore = new_movies[new_movies.Metascore.isnull()]\n",
    "\n",
    "# where no metascore is unavailable, make it 0\n",
    "new_movies[['Metascore']] = new_movies[['Metascore']].fillna(value = 0)\n",
    "\n",
    "new_movies.count()"
   ]
  },
  {
   "cell_type": "code",
   "execution_count": 82,
   "metadata": {},
   "outputs": [
    {
     "data": {
      "text/plain": [
       "Title        3362\n",
       "Year         3362\n",
       "Genre        3362\n",
       "Awards       3362\n",
       "Metascore    3362\n",
       "BoxOffice    3362\n",
       "dtype: int64"
      ]
     },
     "execution_count": 82,
     "metadata": {},
     "output_type": "execute_result"
    }
   ],
   "source": [
    "omdb_movies_withNA_boxoff = new_movies[new_movies.BoxOffice.isnull()]\n",
    "\n",
    "# where no Box Office revenue is provied, make it 0\n",
    "new_movies[['BoxOffice']] = new_movies[['BoxOffice']].fillna(value = '$0')\n",
    "\n",
    "new_movies.count()"
   ]
  },
  {
   "cell_type": "code",
   "execution_count": 85,
   "metadata": {},
   "outputs": [
    {
     "data": {
      "text/plain": [
       "Title        3362\n",
       "Year         3362\n",
       "Genre        3362\n",
       "Awards       3362\n",
       "Metascore    3362\n",
       "BoxOffice    3362\n",
       "dtype: int64"
      ]
     },
     "execution_count": 85,
     "metadata": {},
     "output_type": "execute_result"
    }
   ],
   "source": [
    "new_movies[[\"Year\"]] = new_movies.Year.apply(lambda y: int(y))\n",
    "\n",
    "# Filter movies only from 1999\n",
    "cool_movies = new_movies[new_movies.Year > 1999].sort_values(by='Year', ascending=True)\n",
    "\n",
    "cool_movies.count()"
   ]
  },
  {
   "cell_type": "code",
   "execution_count": 88,
   "metadata": {},
   "outputs": [
    {
     "data": {
      "text/plain": [
       "Title        0\n",
       "Year         0\n",
       "Genre        0\n",
       "Awards       0\n",
       "Metascore    0\n",
       "BoxOffice    0\n",
       "dtype: int64"
      ]
     },
     "execution_count": 88,
     "metadata": {},
     "output_type": "execute_result"
    }
   ],
   "source": [
    "### CHeck to see if any null exists\n",
    "cool_movies.isnull().sum()"
   ]
  },
  {
   "cell_type": "code",
   "execution_count": 91,
   "metadata": {},
   "outputs": [
    {
     "name": "stdout",
     "output_type": "stream",
     "text": [
      "No duplicates, only remakes!\n"
     ]
    }
   ],
   "source": [
    "# check if movies are duplicated\n",
    "if(cool_movies.Title.duplicated().sum() > 0):\n",
    "    # then title is duplicated\n",
    "    # check if it is a remake by cmpaoring release dat\n",
    "    if(cool_movies[['Title','Year']].duplicated().sum() > 0):\n",
    "        # titles are duplicated, save it in duplicate df \n",
    "        duplicate_movies_omdb = cool_movies[cool_movies[['Title','Year']].duplicated()]\n",
    "        # drop duplicated movie, keep only the first one\n",
    "        cool_movies.drop_duplicates(subset = ['Title','Year'], keep = 'first', inplace = True)\n",
    "    else:\n",
    "        print(\"No duplicates, only remakes!\")\n",
    "else:\n",
    "        print(\"No duplicates, only remakes!\")\n",
    "\n"
   ]
  },
  {
   "cell_type": "markdown",
   "metadata": {},
   "source": [
    "### Save the cleaned OMDB file to local drive"
   ]
  },
  {
   "cell_type": "code",
   "execution_count": 92,
   "metadata": {},
   "outputs": [],
   "source": [
    "cool_movies.to_csv('omdb_api_cleaned.csv')"
   ]
  },
  {
   "cell_type": "markdown",
   "metadata": {},
   "source": [
    "#### ++++++++++++++++++++++++++++++ Transformation - Done +++++++++++++++++++++++++++++++++"
   ]
  },
  {
   "cell_type": "markdown",
   "metadata": {},
   "source": [
    "- check the total records inserted### Data Exploration - Optional"
   ]
  },
  {
   "cell_type": "code",
   "execution_count": 47,
   "metadata": {},
   "outputs": [
    {
     "name": "stdout",
     "output_type": "stream",
     "text": [
      "Movies with Zero budget : 798\n"
     ]
    }
   ],
   "source": [
    "movies_noBudget = tmdb_df[tmdb_df.budget <= 0 ]\n",
    "print(f\"Movies with Zero budget : {movies_noBudget.title.count()}\")"
   ]
  },
  {
   "cell_type": "code",
   "execution_count": 46,
   "metadata": {},
   "outputs": [
    {
     "name": "stdout",
     "output_type": "stream",
     "text": [
      "Movies that have not produced any revenue : 1093\n"
     ]
    }
   ],
   "source": [
    "movies_noRevenue = tmdb_df[tmdb_df.revenue <= 0 ]\n",
    "print(f\"Movies that have not produced any revenue : {movies_noRevenue.title.count()}\")"
   ]
  },
  {
   "cell_type": "code",
   "execution_count": 48,
   "metadata": {},
   "outputs": [
    {
     "name": "stdout",
     "output_type": "stream",
     "text": [
      "Movies with zero votes : 56\n"
     ]
    }
   ],
   "source": [
    "movies_withNoVotes = tmdb_df[tmdb_df.vote_count <= 0 ]\n",
    "print(f\"Movies with zero votes : {movies_withNoVotes.title.count()}\")"
   ]
  },
  {
   "cell_type": "code",
   "execution_count": 50,
   "metadata": {},
   "outputs": [
    {
     "name": "stdout",
     "output_type": "stream",
     "text": [
      "Status categories are : ['Released' 'Rumored' 'Post Production']\n"
     ]
    }
   ],
   "source": [
    "print(f\"Status categories are : {tmdb_df.status.unique()}\")"
   ]
  }
 ],
 "metadata": {
  "kernelspec": {
   "display_name": "Python 3",
   "language": "python",
   "name": "python3"
  },
  "language_info": {
   "codemirror_mode": {
    "name": "ipython",
    "version": 3
   },
   "file_extension": ".py",
   "mimetype": "text/x-python",
   "name": "python",
   "nbconvert_exporter": "python",
   "pygments_lexer": "ipython3",
   "version": "3.7.0"
  }
 },
 "nbformat": 4,
 "nbformat_minor": 2
}
