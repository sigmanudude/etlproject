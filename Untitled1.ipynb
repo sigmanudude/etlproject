{
 "cells": [
  {
   "cell_type": "code",
   "execution_count": 35,
   "metadata": {},
   "outputs": [],
   "source": [
    "# Import all required dependencies\n",
    "%matplotlib inline\n",
    "import csv\n",
    "\n",
    "import pandas as pd\n",
    "\n",
    "import numpy as np\n",
    "\n",
    "import os\n",
    "\n",
    "from datetime import datetime\n",
    "\n",
    "import calendar\n",
    "import matplotlib.pyplot as plt\n",
    "\n",
    "import matplotlib as mpl\n",
    "import seaborn as sns\n",
    "from scipy.stats import linregress\n",
    "import scipy.stats as stats\n",
    "#from spread import variance, standard_deviation, zipped_z_scoresimport warnings\n",
    "\n",
    "import warnings\n",
    "warnings.filterwarnings('ignore')"
   ]
  },
  {
   "cell_type": "code",
   "execution_count": 34,
   "metadata": {},
   "outputs": [
    {
     "data": {
      "text/plain": [
       "Index(['Unnamed: 0', 'title', 'budget', 'popularity', 'production_companies',\n",
       "       'release_date', 'runtime', 'revenue', 'status', 'vote_average',\n",
       "       'vote_count', 'Year', 'Title', 'Genre', 'Awards', 'Metascore',\n",
       "       'BoxOffice'],\n",
       "      dtype='object')"
      ]
     },
     "execution_count": 34,
     "metadata": {},
     "output_type": "execute_result"
    }
   ],
   "source": [
    "# File to Load (Remember to change these)\n",
    "movies_data_load = \"C:/Users/admin/Documents/SMU/etlproject/Movies_Merged.csv\"\n",
    "\n",
    "# Read the City and Ride Data\n",
    "movies_data = pd.read_csv(movies_data_load)\n",
    "movies_data.columns"
   ]
  },
  {
   "cell_type": "code",
   "execution_count": 36,
   "metadata": {},
   "outputs": [],
   "source": [
    "movies_data[['budget_fmt']] = movies_data[['budget']]/1000000"
   ]
  },
  {
   "cell_type": "code",
   "execution_count": 37,
   "metadata": {},
   "outputs": [
    {
     "data": {
      "text/html": [
       "<div>\n",
       "<style scoped>\n",
       "    .dataframe tbody tr th:only-of-type {\n",
       "        vertical-align: middle;\n",
       "    }\n",
       "\n",
       "    .dataframe tbody tr th {\n",
       "        vertical-align: top;\n",
       "    }\n",
       "\n",
       "    .dataframe thead th {\n",
       "        text-align: right;\n",
       "    }\n",
       "</style>\n",
       "<table border=\"1\" class=\"dataframe\">\n",
       "  <thead>\n",
       "    <tr style=\"text-align: right;\">\n",
       "      <th></th>\n",
       "      <th>Unnamed: 0</th>\n",
       "      <th>budget</th>\n",
       "      <th>popularity</th>\n",
       "      <th>runtime</th>\n",
       "      <th>revenue</th>\n",
       "      <th>vote_average</th>\n",
       "      <th>vote_count</th>\n",
       "      <th>Year</th>\n",
       "      <th>Metascore</th>\n",
       "      <th>budget_fmt</th>\n",
       "    </tr>\n",
       "  </thead>\n",
       "  <tbody>\n",
       "    <tr>\n",
       "      <th>count</th>\n",
       "      <td>3139.000000</td>\n",
       "      <td>3.139000e+03</td>\n",
       "      <td>3139.000000</td>\n",
       "      <td>3139.000000</td>\n",
       "      <td>3.139000e+03</td>\n",
       "      <td>3139.000000</td>\n",
       "      <td>3139.000000</td>\n",
       "      <td>3139.000000</td>\n",
       "      <td>3139.000000</td>\n",
       "      <td>3139.000000</td>\n",
       "    </tr>\n",
       "    <tr>\n",
       "      <th>mean</th>\n",
       "      <td>1569.000000</td>\n",
       "      <td>3.411063e+07</td>\n",
       "      <td>23.968841</td>\n",
       "      <td>105.441822</td>\n",
       "      <td>9.435391e+07</td>\n",
       "      <td>6.031666</td>\n",
       "      <td>796.403632</td>\n",
       "      <td>2007.951896</td>\n",
       "      <td>47.968143</td>\n",
       "      <td>34.110633</td>\n",
       "    </tr>\n",
       "    <tr>\n",
       "      <th>std</th>\n",
       "      <td>906.295574</td>\n",
       "      <td>4.548869e+07</td>\n",
       "      <td>36.296325</td>\n",
       "      <td>20.118782</td>\n",
       "      <td>1.810473e+08</td>\n",
       "      <td>1.141007</td>\n",
       "      <td>1348.122016</td>\n",
       "      <td>4.632021</td>\n",
       "      <td>23.383226</td>\n",
       "      <td>45.488692</td>\n",
       "    </tr>\n",
       "    <tr>\n",
       "      <th>min</th>\n",
       "      <td>0.000000</td>\n",
       "      <td>0.000000e+00</td>\n",
       "      <td>0.001186</td>\n",
       "      <td>0.000000</td>\n",
       "      <td>0.000000e+00</td>\n",
       "      <td>0.000000</td>\n",
       "      <td>0.000000</td>\n",
       "      <td>2000.000000</td>\n",
       "      <td>0.000000</td>\n",
       "      <td>0.000000</td>\n",
       "    </tr>\n",
       "    <tr>\n",
       "      <th>25%</th>\n",
       "      <td>784.500000</td>\n",
       "      <td>1.200000e+06</td>\n",
       "      <td>5.646191</td>\n",
       "      <td>93.000000</td>\n",
       "      <td>0.000000e+00</td>\n",
       "      <td>5.500000</td>\n",
       "      <td>69.500000</td>\n",
       "      <td>2004.000000</td>\n",
       "      <td>35.000000</td>\n",
       "      <td>1.200000</td>\n",
       "    </tr>\n",
       "    <tr>\n",
       "      <th>50%</th>\n",
       "      <td>1569.000000</td>\n",
       "      <td>1.800000e+07</td>\n",
       "      <td>14.808304</td>\n",
       "      <td>103.000000</td>\n",
       "      <td>2.543429e+07</td>\n",
       "      <td>6.200000</td>\n",
       "      <td>291.000000</td>\n",
       "      <td>2008.000000</td>\n",
       "      <td>50.000000</td>\n",
       "      <td>18.000000</td>\n",
       "    </tr>\n",
       "    <tr>\n",
       "      <th>75%</th>\n",
       "      <td>2353.500000</td>\n",
       "      <td>4.500000e+07</td>\n",
       "      <td>31.378276</td>\n",
       "      <td>116.000000</td>\n",
       "      <td>1.030121e+08</td>\n",
       "      <td>6.700000</td>\n",
       "      <td>888.500000</td>\n",
       "      <td>2012.000000</td>\n",
       "      <td>65.000000</td>\n",
       "      <td>45.000000</td>\n",
       "    </tr>\n",
       "    <tr>\n",
       "      <th>max</th>\n",
       "      <td>3138.000000</td>\n",
       "      <td>3.800000e+08</td>\n",
       "      <td>875.581305</td>\n",
       "      <td>214.000000</td>\n",
       "      <td>2.787965e+09</td>\n",
       "      <td>10.000000</td>\n",
       "      <td>13752.000000</td>\n",
       "      <td>2016.000000</td>\n",
       "      <td>100.000000</td>\n",
       "      <td>380.000000</td>\n",
       "    </tr>\n",
       "  </tbody>\n",
       "</table>\n",
       "</div>"
      ],
      "text/plain": [
       "        Unnamed: 0        budget   popularity      runtime       revenue  \\\n",
       "count  3139.000000  3.139000e+03  3139.000000  3139.000000  3.139000e+03   \n",
       "mean   1569.000000  3.411063e+07    23.968841   105.441822  9.435391e+07   \n",
       "std     906.295574  4.548869e+07    36.296325    20.118782  1.810473e+08   \n",
       "min       0.000000  0.000000e+00     0.001186     0.000000  0.000000e+00   \n",
       "25%     784.500000  1.200000e+06     5.646191    93.000000  0.000000e+00   \n",
       "50%    1569.000000  1.800000e+07    14.808304   103.000000  2.543429e+07   \n",
       "75%    2353.500000  4.500000e+07    31.378276   116.000000  1.030121e+08   \n",
       "max    3138.000000  3.800000e+08   875.581305   214.000000  2.787965e+09   \n",
       "\n",
       "       vote_average    vote_count         Year    Metascore   budget_fmt  \n",
       "count   3139.000000   3139.000000  3139.000000  3139.000000  3139.000000  \n",
       "mean       6.031666    796.403632  2007.951896    47.968143    34.110633  \n",
       "std        1.141007   1348.122016     4.632021    23.383226    45.488692  \n",
       "min        0.000000      0.000000  2000.000000     0.000000     0.000000  \n",
       "25%        5.500000     69.500000  2004.000000    35.000000     1.200000  \n",
       "50%        6.200000    291.000000  2008.000000    50.000000    18.000000  \n",
       "75%        6.700000    888.500000  2012.000000    65.000000    45.000000  \n",
       "max       10.000000  13752.000000  2016.000000   100.000000   380.000000  "
      ]
     },
     "execution_count": 37,
     "metadata": {},
     "output_type": "execute_result"
    }
   ],
   "source": [
    "movies_data.describe()"
   ]
  },
  {
   "cell_type": "code",
   "execution_count": 38,
   "metadata": {},
   "outputs": [
    {
     "data": {
      "text/plain": [
       "<matplotlib.axes._subplots.AxesSubplot at 0x20d7d042908>"
      ]
     },
     "execution_count": 38,
     "metadata": {},
     "output_type": "execute_result"
    },
    {
     "data": {
      "image/png": "[encoded data removed]",
      "text/plain": [
       "<Figure size 432x288 with 1 Axes>"
      ]
     },
     "metadata": {
      "needs_background": "light"
     },
     "output_type": "display_data"
    }
   ],
   "source": [
    "\n",
    "sns.distplot(movies_data.budget_fmt,bins=3)"
   ]
  },
  {
   "cell_type": "code",
   "execution_count": 41,
   "metadata": {},
   "outputs": [
    {
     "data": {
      "text/plain": [
       "<matplotlib.axes._subplots.AxesSubplot at 0x20d000b0ef0>"
      ]
     },
     "execution_count": 41,
     "metadata": {},
     "output_type": "execute_result"
    },
    {
     "data": {
      "image/png": "[encoded data removed]",
      "text/plain": [
       "<Figure size 432x288 with 1 Axes>"
      ]
     },
     "metadata": {
      "needs_background": "light"
     },
     "output_type": "display_data"
    }
   ],
   "source": [
    "sns.distplot(movies_data.popularity,bins=50)"
   ]
  },
  {
   "cell_type": "code",
   "execution_count": null,
   "metadata": {},
   "outputs": [],
   "source": [
    "\n"
   ]
  },
  {
   "cell_type": "code",
   "execution_count": 48,
   "metadata": {},
   "outputs": [
    {
     "data": {
      "image/png": "[encoded data removed]",
      "text/plain": [
       "<Figure size 648x504 with 1 Axes>"
      ]
     },
     "metadata": {
      "needs_background": "light"
     },
     "output_type": "display_data"
    }
   ],
   "source": [
    "fig, ax = plt.subplots(figsize = (9,7))\n",
    "movie_budget_bar = sns.barplot(x=\"Year\", y=\"budget_fmt\", data=movies_data)\n"
   ]
  },
  {
   "cell_type": "code",
   "execution_count": 29,
   "metadata": {},
   "outputs": [],
   "source": [
    "budget_bins = [0, movies_data.describe().loc['25%','budget'], movies_data.describe().loc['50%','budget'],\n",
    "\n",
    "       movies_data.describe().loc['75%','budget'], movies_data.describe().loc['max','budget']+100]\n"
   ]
  },
  {
   "cell_type": "code",
   "execution_count": 13,
   "metadata": {},
   "outputs": [
    {
     "data": {
      "text/plain": [
       "Unnamed: 0              3139\n",
       "title                   3139\n",
       "budget                  3139\n",
       "popularity              3139\n",
       "production_companies    3139\n",
       "release_date            3139\n",
       "runtime                 3139\n",
       "revenue                 3139\n",
       "status                  3139\n",
       "vote_average            3139\n",
       "vote_count              3139\n",
       "Year                    3139\n",
       "Title                   3139\n",
       "Genre                   3139\n",
       "Awards                  3139\n",
       "Metascore               3139\n",
       "BoxOffice               3139\n",
       "dtype: int64"
      ]
     },
     "execution_count": 13,
     "metadata": {},
     "output_type": "execute_result"
    }
   ],
   "source": [
    "movies_data.count()"
   ]
  },
  {
   "cell_type": "code",
   "execution_count": 12,
   "metadata": {},
   "outputs": [
    {
     "name": "stdout",
     "output_type": "stream",
     "text": [
      "Unnamed: 0              652\n",
      "title                   652\n",
      "budget                  652\n",
      "popularity              652\n",
      "production_companies    652\n",
      "release_date            652\n",
      "runtime                 652\n",
      "revenue                 652\n",
      "status                  652\n",
      "vote_average            652\n",
      "vote_count              652\n",
      "Year                    652\n",
      "Title                   652\n",
      "Genre                   652\n",
      "Awards                  652\n",
      "Metascore               652\n",
      "BoxOffice               652\n",
      "dtype: int64\n"
     ]
    }
   ],
   "source": [
    "movies_noRevenue2 = movies_data[movies_data.budget <= 0 ].count()\n",
    "print(movies_noRevenue2)"
   ]
  },
  {
   "cell_type": "code",
   "execution_count": null,
   "metadata": {},
   "outputs": [],
   "source": []
  }
 ],
 "metadata": {
  "kernelspec": {
   "display_name": "Python 3",
   "language": "python",
   "name": "python3"
  },
  "language_info": {
   "codemirror_mode": {
    "name": "ipython",
    "version": 3
   },
   "file_extension": ".py",
   "mimetype": "text/x-python",
   "name": "python",
   "nbconvert_exporter": "python",
   "pygments_lexer": "ipython3",
   "version": "3.7.0"
  }
 },
 "nbformat": 4,
 "nbformat_minor": 2
}
